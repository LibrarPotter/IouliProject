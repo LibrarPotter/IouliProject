{
 "cells": [
  {
   "cell_type": "code",
   "execution_count": 73,
   "metadata": {
    "collapsed": false
   },
   "outputs": [
    {
     "data": {
      "text/plain": [
       "['Unnamed: 0',\n",
       " 'article',\n",
       " 'Non_self_referencial_link',\n",
       " 'volume',\n",
       " 'pre_link_text',\n",
       " 'link_text',\n",
       " 'clean_link_text_not_article',\n",
       " 'DOI_for_article',\n",
       " 'HTTPstatus',\n",
       " 'HTTPheaders']"
      ]
     },
     "execution_count": 73,
     "metadata": {},
     "output_type": "execute_result"
    }
   ],
   "source": [
    "import requests\n",
    "import csv\n",
    "import pandas as pd\n",
    "import sys\n",
    "import ast #needed in order to convert headers returned from url call into dictionary instead of string\n",
    "\n",
    "#function to get the status and headers for a given URL. Return as a list.\n",
    "def getStatus(url):\n",
    "    r = requests.head(url)\n",
    "    status = str(r.status_code)\n",
    "    header = str(r.headers)\n",
    "    return status, header\n",
    "\n",
    "#read in CSV and convert to dataframe\n",
    "path = \"C:\\Users\\Megan\\Documents\\LibDataResearch\\IouliProject\\JMoSp_link_status.csv\"\n",
    "df = pd.read_csv(path)\n",
    "list(df.columns.values) #lists the headers"
   ]
  },
  {
   "cell_type": "markdown",
   "metadata": {},
   "source": [
    "Read CSV in as dataframe\n",
    "while status in CSV is in range (300, 304)\n",
    "    assign status2 as the value to the key \"location\" in the header1 dictionary\n",
    "    run getStatus on status2\n",
    "else\n",
    "    \n",
    "    "
   ]
  },
  {
   "cell_type": "code",
   "execution_count": 72,
   "metadata": {
    "collapsed": false
   },
   "outputs": [
    {
     "name": "stdout",
     "output_type": "stream",
     "text": [
      "{'keep-alive': 'timeout=10', 'server': 'Apache/2.2.15 (CentOS)', 'connection': 'Keep-Alive', 'location': 'http://library.osu.edu/projects/msa/jmsa_hp.htm', 'date': 'Thu, 03 Dec 2015 22:12:22 GMT', 'content-type': 'text/html; charset=iso-8859-1'}\n",
      "<type 'str'>\n",
      "<type 'dict'>\n"
     ]
    }
   ],
   "source": [
    "#assign values that I will need to access later\n",
    "\n",
    "volume = df['volume']\n",
    "status1 = df['HTTPstatus']\n",
    "header1 = df['HTTPheaders']\n",
    "url = df['clean_link_text_not_article']\n",
    "#print status1[0]\n",
    "#print header1[0]\n",
    "#this = dict(header1[0])\n",
    "print header1[0]\n",
    "print type(header1[0])\n",
    "#print this\n",
    "#print type(this)\n",
    "\n",
    "\n",
    "\n"
   ]
  },
  {
   "cell_type": "code",
   "execution_count": 61,
   "metadata": {
    "collapsed": false
   },
   "outputs": [
    {
     "name": "stdout",
     "output_type": "stream",
     "text": [
      "the brave\n"
     ]
    }
   ],
   "source": [
    "knights = {'gallahad': 'the pure', 'robin': 'the brave'}\n",
    "for k, v in knights.iteritems():\n",
    "    if k == 'robin':\n",
    "        print v"
   ]
  },
  {
   "cell_type": "code",
   "execution_count": 81,
   "metadata": {
    "collapsed": false
   },
   "outputs": [
    {
     "name": "stdout",
     "output_type": "stream",
     "text": [
      "currentStatus:  302\n",
      "SUCCESS\n",
      "0\n",
      "value:  http://library.osu.edu/projects/msa/jmsa_hp.htm\n",
      "currentStatus:  200\n",
      "ELSE\n",
      "currentStatus:  301\n",
      "SUCCESS\n",
      "2\n",
      "value:  http://www.appl.sci-nnov.ru/mwl/\n",
      "currentStatus:  302\n",
      "SUCCESS\n",
      "3\n",
      "value:  http://www.sscspace.com\n",
      "currentStatus:  502\n",
      "ELSE\n",
      "currentStatus:  404\n",
      "ELSE\n",
      "currentStatus:  200\n",
      "ELSE\n",
      "currentStatus:  200\n",
      "ELSE\n",
      "currentStatus:  302\n",
      "SUCCESS\n",
      "8\n",
      "value:  https://www.aip.org/pubservs/epaps.html\n",
      "currentStatus:  404\n",
      "ELSE\n",
      "end of loop\n",
      "['302', 'null', '200', '200', 'null', 'null', 'null', 'null', '301', 'null']\n",
      "[\"{'keep-alive': 'timeout=10', 'server': 'Apache/2.2.15 (CentOS)', 'connection': 'Keep-Alive', 'location': 'https://library.osu.edu/projects/msa/jmsa_hp.htm', 'date': 'Fri, 04 Dec 2015 18:06:27 GMT', 'content-type': 'text/html; charset=iso-8859-1'}\", 'null', '{\\'content-length\\': \\'1373\\', \\'via\\': \\'1.1 IAPSRV1\\', \\'proxy-connection\\': \\'Keep-Alive\\', \\'x-powered-by\\': \\'ASP.NET\\', \\'accept-ranges\\': \\'bytes\\', \\'server\\': \\'Microsoft-IIS/7.0\\', \\'last-modified\\': \\'Tue, 19 Mar 2013 08:21:03 GMT\\', \\'connection\\': \\'Keep-Alive\\', \\'etag\\': \\'\"be6911b27a24ce1:0\"\\', \\'date\\': \\'Fri, 04 Dec 2015 18:06:28 GMT\\', \\'content-type\\': \\'text/html\\'}', \"{'content-length': '7539', 'content-encoding': 'gzip', 'x-aspnet-version': '2.0.50727', 'vary': 'Accept-Encoding', 'server': 'Microsoft-IIS/7.5', 'cache-control': 'private', 'date': 'Fri, 04 Dec 2015 18:06:28 GMT', 'x-powered-by': 'ASP.NET', 'content-type': 'text/html; charset=utf-8'}\", 'null', 'null', 'null', 'null', \"{'content-length': '213', 'via': '1.1 varnish', 'x-cache': 'HIT', 'content-encoding': 'gzip', 'accept-ranges': 'bytes', 'expires': 'Tue, 08 Dec 2015 15:04:41 GMT', 'vary': 'Accept-Encoding', 'x-request-id': 'v-b059f2d6-92bc-11e5-9102-22000a951633', 'server': 'nginx', 'connection': 'keep-alive', 'x-varnish': '508417399 470260182', 'x-cache-hits': '94', 'location': 'https://publishing.aip.org/authors/supporting-data', 'cache-control': 'max-age=1209600', 'date': 'Fri, 04 Dec 2015 18:06:28 GMT', 'content-type': 'text/html; charset=iso-8859-1', 'age': '874907'}\", 'null']\n",
      "done\n"
     ]
    }
   ],
   "source": [
    "#for i in range(0, len(volume)):\n",
    "statusList2 = []\n",
    "headerList2 = []\n",
    "for i in range(0,10):\n",
    "    currentStatus = status1[i]\n",
    "    currentHeader = header1[i]\n",
    "    #print currentHeader\n",
    "    print \"currentStatus: \", currentStatus\n",
    "    if currentStatus in (str(range(300, 304))):\n",
    "        print \"SUCCESS\"\n",
    "        print i\n",
    "        #print currentHeader\n",
    "        #status2 = currentStatus\n",
    "        header1AsDict = ast.literal_eval(currentHeader) #turn the header for a 30X response into a dict\n",
    "        \n",
    "        for k, v in header1AsDict.iteritems():\n",
    "            if k == \"location\":\n",
    "                print \"value: \", v\n",
    "                statusHeader2 = getStatus(v)\n",
    "                status2 = statusHeader2[0]\n",
    "                header2 = statusHeader2[1]\n",
    "                \n",
    "    else:\n",
    "        print \"ELSE\"\n",
    "        #print i\n",
    "        #print currentHeader\n",
    "        status2 = \"null\"\n",
    "        header2 = \"null\"\n",
    "    statusList2.append(status2)\n",
    "    headerList2.append(header2)\n",
    "\n",
    "print \"end of loop\"\n",
    "print statusList2\n",
    "print headerList2\n",
    "print \"done\""
   ]
  },
  {
   "cell_type": "code",
   "execution_count": null,
   "metadata": {
    "collapsed": true
   },
   "outputs": [],
   "source": []
  }
 ],
 "metadata": {
  "kernelspec": {
   "display_name": "Python 2",
   "language": "python",
   "name": "python2"
  },
  "language_info": {
   "codemirror_mode": {
    "name": "ipython",
    "version": 2
   },
   "file_extension": ".py",
   "mimetype": "text/x-python",
   "name": "python",
   "nbconvert_exporter": "python",
   "pygments_lexer": "ipython2",
   "version": "2.7.8"
  }
 },
 "nbformat": 4,
 "nbformat_minor": 0
}
