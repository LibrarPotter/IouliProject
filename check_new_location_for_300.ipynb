{
 "cells": [
  {
   "cell_type": "code",
   "execution_count": 2,
   "metadata": {
    "collapsed": false
   },
   "outputs": [
    {
     "data": {
      "text/plain": [
       "['Unnamed: 0',\n",
       " 'article',\n",
       " 'Non_self_referencial_link',\n",
       " 'volume',\n",
       " 'pre_link_text',\n",
       " 'link_text',\n",
       " 'clean_link_text_not_article',\n",
       " 'DOI_for_article',\n",
       " 'HTTPstatus',\n",
       " 'HTTPheaders']"
      ]
     },
     "execution_count": 2,
     "metadata": {},
     "output_type": "execute_result"
    }
   ],
   "source": [
    "import requests\n",
    "import csv\n",
    "import pandas as pd\n",
    "import sys\n",
    "import ast #needed in order to convert headers returned from url call into dictionary instead of string\n",
    "\n",
    "#function to get the status and headers for a given URL. Return as a list.\n",
    "def getStatus(url):\n",
    "    r = requests.head(url)\n",
    "    status = str(r.status_code)\n",
    "    header = str(r.headers)\n",
    "    return status, header\n",
    "\n",
    "#read in CSV and convert to dataframe\n",
    "path = \"C:\\Users\\Megan\\Documents\\LibDataResearch\\IouliProject\\JMoSp_link_status.csv\"\n",
    "df = pd.read_csv(path)\n",
    "list(df.columns.values) #lists the headers"
   ]
  },
  {
   "cell_type": "markdown",
   "metadata": {},
   "source": [
    "Read CSV in as dataframe\n",
    "Next:\n",
    "comment code more?\n",
    "runn on whole df\n",
    "add lists to df as new columns status2 and header2\n",
    "    \n",
    "    "
   ]
  },
  {
   "cell_type": "code",
   "execution_count": 3,
   "metadata": {
    "collapsed": false
   },
   "outputs": [
    {
     "name": "stdout",
     "output_type": "stream",
     "text": [
      "{'keep-alive': 'timeout=10', 'server': 'Apache/2.2.15 (CentOS)', 'connection': 'Keep-Alive', 'location': 'http://library.osu.edu/projects/msa/jmsa_hp.htm', 'date': 'Thu, 03 Dec 2015 22:12:22 GMT', 'content-type': 'text/html; charset=iso-8859-1'}\n",
      "<type 'str'>\n"
     ]
    }
   ],
   "source": [
    "#assign values that I will need to access later\n",
    "\n",
    "volume = df['volume']\n",
    "status1 = df['HTTPstatus']\n",
    "header1 = df['HTTPheaders']\n",
    "url = df['clean_link_text_not_article']\n",
    "#print status1[0]\n",
    "#print header1[0]\n",
    "#this = dict(header1[0])\n",
    "print header1[0]\n",
    "print type(header1[0])\n",
    "#print this\n",
    "#print type(this)\n",
    "\n",
    "\n",
    "\n"
   ]
  },
  {
   "cell_type": "code",
   "execution_count": 13,
   "metadata": {
    "collapsed": false
   },
   "outputs": [
    {
     "name": "stdout",
     "output_type": "stream",
     "text": [
      "currentStatus:  302\n",
      "SUCCESS\n",
      "value:  http://library.osu.edu/projects/msa/jmsa_hp.htm\n",
      "still:  http://library.osu.edu/projects/msa/jmsa_hp.htm\n",
      "again:  http://library.osu.edu/projects/msa/jmsa_hp.htm\n",
      "currentStatus:  200\n",
      "ELSE\n",
      "again:  null\n",
      "currentStatus:  301\n",
      "SUCCESS\n",
      "value:  http://www.appl.sci-nnov.ru/mwl/\n",
      "still:  http://www.appl.sci-nnov.ru/mwl/\n",
      "again:  http://www.appl.sci-nnov.ru/mwl/\n",
      "currentStatus:  302\n",
      "SUCCESS\n",
      "value:  http://www.sscspace.com\n",
      "still:  http://www.sscspace.com\n",
      "again:  http://www.sscspace.com\n",
      "currentStatus:  502\n",
      "ELSE\n",
      "again:  null\n",
      "currentStatus:  404\n",
      "ELSE\n",
      "again:  null\n",
      "currentStatus:  200\n",
      "ELSE\n",
      "again:  null\n",
      "currentStatus:  200\n",
      "ELSE\n",
      "again:  null\n",
      "currentStatus:  302\n",
      "SUCCESS\n",
      "value:  https://www.aip.org/pubservs/epaps.html\n",
      "still:  https://www.aip.org/pubservs/epaps.html\n",
      "again:  https://www.aip.org/pubservs/epaps.html\n",
      "currentStatus:  404\n",
      "ELSE\n",
      "again:  null\n",
      "end of loop\n",
      "['302', 'null', '200', '200', 'null', 'null', 'null', 'null', '301', 'null']\n",
      "[\"{'keep-alive': 'timeout=10', 'server': 'Apache/2.2.15 (CentOS)', 'connection': 'Keep-Alive', 'location': 'https://library.osu.edu/projects/msa/jmsa_hp.htm', 'date': 'Mon, 07 Dec 2015 15:34:39 GMT', 'content-type': 'text/html; charset=iso-8859-1'}\", 'null', '{\\'content-length\\': \\'1373\\', \\'via\\': \\'1.1 IAPSRV1\\', \\'proxy-connection\\': \\'Keep-Alive\\', \\'x-powered-by\\': \\'ASP.NET\\', \\'accept-ranges\\': \\'bytes\\', \\'server\\': \\'Microsoft-IIS/7.0\\', \\'last-modified\\': \\'Tue, 19 Mar 2013 08:21:03 GMT\\', \\'connection\\': \\'Keep-Alive\\', \\'etag\\': \\'\"be6911b27a24ce1:0\"\\', \\'date\\': \\'Mon, 07 Dec 2015 15:34:41 GMT\\', \\'content-type\\': \\'text/html\\'}', \"{'content-length': '7539', 'content-encoding': 'gzip', 'x-aspnet-version': '2.0.50727', 'vary': 'Accept-Encoding', 'server': 'Microsoft-IIS/7.5', 'cache-control': 'private', 'date': 'Mon, 07 Dec 2015 15:34:39 GMT', 'x-powered-by': 'ASP.NET', 'content-type': 'text/html; charset=utf-8'}\", 'null', 'null', 'null', 'null', \"{'content-length': '213', 'via': '1.1 varnish', 'x-content-type-options': 'nosniff', 'x-cache': 'MISS', 'content-encoding': 'gzip', 'accept-ranges': 'bytes', 'expires': 'Mon, 21 Dec 2015 15:34:40 GMT', 'vary': 'Accept-Encoding', 'x-request-id': 'v-083111c0-9cf8-11e5-88ae-12313b033001', 'server': 'nginx', 'connection': 'keep-alive', 'x-varnish': '177797773', 'location': 'https://publishing.aip.org/authors/supporting-data', 'cache-control': 'max-age=1209600', 'date': 'Mon, 07 Dec 2015 15:34:40 GMT', 'content-type': 'text/html; charset=iso-8859-1', 'age': '0'}\", 'null']\n",
      "['http://library.osu.edu/projects/msa/jmsa_hp.htm', 'null', 'http://www.appl.sci-nnov.ru/mwl/', 'http://www.sscspace.com', 'null', 'null', 'null', 'null', 'https://www.aip.org/pubservs/epaps.html', 'null']\n",
      "done\n"
     ]
    }
   ],
   "source": [
    "statusList2 = []\n",
    "headerList2 = []\n",
    "urlList2 = [] #list of urls given in header for 300-304 statuses\n",
    "for i in range(0, len(volume)): #use to run on full df \n",
    "#for i in range(0,10): \n",
    "    currentStatus = status1[i]\n",
    "    currentHeader = header1[i]\n",
    "    #print currentHeader\n",
    "    print \"currentStatus: \", currentStatus\n",
    "    if currentStatus in (str(range(300, 304))): #if the status is between these numbers it has a reference URL\n",
    "        print \"SUCCESS\"\n",
    "        #print i\n",
    "        #print currentHeader\n",
    "        #status2 = currentStatus\n",
    "        header1AsDict = ast.literal_eval(currentHeader) #turn the returned header for a 300-304 response into a dict\n",
    "        \n",
    "        for k, v in header1AsDict.iteritems():\n",
    "            if k == \"location\":\n",
    "                print \"value: \", v #v is the new/temp/current location of the website redirected from the original link\n",
    "                statusHeader2 = getStatus(v)\n",
    "                status2 = statusHeader2[0]\n",
    "                header2 = statusHeader2[1]\n",
    "                url2 = v #v must be assigned to a new variable or else it changes value before it is appended.\n",
    "    else:\n",
    "        print \"ELSE\"\n",
    "        #print i\n",
    "        #print currentHeader\n",
    "        url2 = \"null\"\n",
    "        status2 = \"null\"\n",
    "        header2 = \"null\"\n",
    "    print \"again: \",url2\n",
    "    statusList2.append(status2)\n",
    "    headerList2.append(header2)\n",
    "    urlList2.append(url2)\n",
    "\n",
    "print \"end of loop\"\n",
    "print statusList2\n",
    "print headerList2\n",
    "print urlList2\n",
    "print \"done\""
   ]
  },
  {
   "cell_type": "code",
   "execution_count": 14,
   "metadata": {
    "collapsed": false
   },
   "outputs": [
    {
     "name": "stdout",
     "output_type": "stream",
     "text": [
      "10\n",
      "10\n",
      "10\n",
      "['302', 'null', '200', '200', 'null', 'null', 'null', 'null', '301', 'null']\n",
      "['http://library.osu.edu/projects/msa/jmsa_hp.htm', 'null', 'http://www.appl.sci-nnov.ru/mwl/', 'http://www.sscspace.com', 'null', 'null', 'null', 'null', 'https://www.aip.org/pubservs/epaps.html', 'null']\n"
     ]
    }
   ],
   "source": [
    "print len(statusList2)\n",
    "print len(headerList2)\n",
    "print len(urlList2)\n",
    "print statusList2\n",
    "print urlList2"
   ]
  },
  {
   "cell_type": "code",
   "execution_count": null,
   "metadata": {
    "collapsed": true
   },
   "outputs": [],
   "source": [
    "#append status and header columns to dataframe\n",
    "df['HTTPstatus2'] = statusList2\n",
    "df['HTTPheaders2'] = headerList2\n",
    "df['URL2'] = urlList2\n",
    "\n",
    "#export as a csv to a hard coded location, utf-8 encoding in case header content included utf-8 characters.\n",
    "df.to_csv(path_or_buf=\"C:\\Users\\Megan\\Documents\\LibDataResearch\\IouliProject\\JMoSp_link_status_with_30X.csv\", encoding=\"utf-8\")"
   ]
  }
 ],
 "metadata": {
  "kernelspec": {
   "display_name": "Python 2",
   "language": "python",
   "name": "python2"
  },
  "language_info": {
   "codemirror_mode": {
    "name": "ipython",
    "version": 2
   },
   "file_extension": ".py",
   "mimetype": "text/x-python",
   "name": "python",
   "nbconvert_exporter": "python",
   "pygments_lexer": "ipython2",
   "version": "2.7.8"
  }
 },
 "nbformat": 4,
 "nbformat_minor": 0
}
